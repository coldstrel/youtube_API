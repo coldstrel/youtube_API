{
 "cells": [
  {
   "cell_type": "code",
   "execution_count": 1,
   "metadata": {},
   "outputs": [],
   "source": [
    "%%capture\n",
    "#installation fo all the packages\n",
    "!pip install --upgrade google-api-python-client"
   ]
  },
  {
   "cell_type": "code",
   "execution_count": 2,
   "metadata": {},
   "outputs": [],
   "source": [
    "from googleapiclient.discovery import build\n",
    "from IPython.display import JSON\n",
    "import pandas as pd"
   ]
  },
  {
   "cell_type": "code",
   "execution_count": 3,
   "metadata": {},
   "outputs": [],
   "source": [
    "from config import api_key #imports API key from config.py\n",
    "api_key = api_key"
   ]
  },
  {
   "cell_type": "code",
   "execution_count": 4,
   "metadata": {},
   "outputs": [],
   "source": [
    "channel_ids = [\"UCbJj68RrcFbFH4UGM-WOWiw\", \"UCO9W--gggU0qOniocIOXm6Q\", \"UCeFU92qBf_vDdS9_mGQCbhg\"]"
   ]
  },
  {
   "cell_type": "code",
   "execution_count": 5,
   "metadata": {},
   "outputs": [],
   "source": [
    "##%%capture\n",
    "api_service_name = \"youtube\"\n",
    "api_version = \"v3\"\n",
    "# Get credentials and create an API client\n",
    "youtube = build(\n",
    "    api_service_name, api_version, developerKey=api_key)"
   ]
  },
  {
   "cell_type": "code",
   "execution_count": 6,
   "metadata": {},
   "outputs": [],
   "source": [
    "# Get channel stats\n",
    "def get_channel_stats(youtube, channel_ids):\n",
    "    all_data = []\n",
    "    request = youtube.channels().list(\n",
    "        part=\"snippet,contentDetails,statistics\",\n",
    "        id = ','.join(channel_ids)\n",
    "    )\n",
    "    response = request.execute()\n",
    "\n",
    "    #loop through items\n",
    "    for item in response['items']:\n",
    "        data = {'channelName' : item['snippet'] [ 'title'],\n",
    "        'subscribers': item['statistics'] ['subscriberCount'],\n",
    "        'views': item['statistics'] ['viewCount'],\n",
    "        'totalVideos': item['statistics'] ['videoCount'],\n",
    "        'playlistId' : item['contentDetails'] [ 'relatedPlaylists'] ['uploads']\n",
    "        }\n",
    "        all_data.append(data)\n",
    "    return(pd.DataFrame(all_data))"
   ]
  },
  {
   "cell_type": "code",
   "execution_count": 7,
   "metadata": {},
   "outputs": [],
   "source": [
    "channel_stats = get_channel_stats(youtube, channel_ids)"
   ]
  },
  {
   "cell_type": "code",
   "execution_count": 8,
   "metadata": {},
   "outputs": [
    {
     "data": {
      "text/html": [
       "<div>\n",
       "<style scoped>\n",
       "    .dataframe tbody tr th:only-of-type {\n",
       "        vertical-align: middle;\n",
       "    }\n",
       "\n",
       "    .dataframe tbody tr th {\n",
       "        vertical-align: top;\n",
       "    }\n",
       "\n",
       "    .dataframe thead th {\n",
       "        text-align: right;\n",
       "    }\n",
       "</style>\n",
       "<table border=\"1\" class=\"dataframe\">\n",
       "  <thead>\n",
       "    <tr style=\"text-align: right;\">\n",
       "      <th></th>\n",
       "      <th>channelName</th>\n",
       "      <th>subscribers</th>\n",
       "      <th>views</th>\n",
       "      <th>totalVideos</th>\n",
       "      <th>playlistId</th>\n",
       "    </tr>\n",
       "  </thead>\n",
       "  <tbody>\n",
       "    <tr>\n",
       "      <th>0</th>\n",
       "      <td>Escuadrón Subnormal</td>\n",
       "      <td>29600</td>\n",
       "      <td>672012</td>\n",
       "      <td>234</td>\n",
       "      <td>UUO9W--gggU0qOniocIOXm6Q</td>\n",
       "    </tr>\n",
       "    <tr>\n",
       "      <th>1</th>\n",
       "      <td>MundoCreepy</td>\n",
       "      <td>2600000</td>\n",
       "      <td>462963393</td>\n",
       "      <td>1214</td>\n",
       "      <td>UUeFU92qBf_vDdS9_mGQCbhg</td>\n",
       "    </tr>\n",
       "    <tr>\n",
       "      <th>2</th>\n",
       "      <td>Nico de la Bombacha</td>\n",
       "      <td>104000</td>\n",
       "      <td>11707088</td>\n",
       "      <td>322</td>\n",
       "      <td>UUbJj68RrcFbFH4UGM-WOWiw</td>\n",
       "    </tr>\n",
       "  </tbody>\n",
       "</table>\n",
       "</div>"
      ],
      "text/plain": [
       "           channelName subscribers      views totalVideos  \\\n",
       "0  Escuadrón Subnormal       29600     672012         234   \n",
       "1          MundoCreepy     2600000  462963393        1214   \n",
       "2  Nico de la Bombacha      104000   11707088         322   \n",
       "\n",
       "                 playlistId  \n",
       "0  UUO9W--gggU0qOniocIOXm6Q  \n",
       "1  UUeFU92qBf_vDdS9_mGQCbhg  \n",
       "2  UUbJj68RrcFbFH4UGM-WOWiw  "
      ]
     },
     "execution_count": 8,
     "metadata": {},
     "output_type": "execute_result"
    }
   ],
   "source": [
    "channel_stats"
   ]
  },
  {
   "cell_type": "code",
   "execution_count": 9,
   "metadata": {},
   "outputs": [],
   "source": [
    "playlist_id = \"PLCx8c89cdYfA-RdC4699DI1lT5olHhWcc\"\n",
    "def get_video_ids (youtube, playlist_id):\n",
    "    video_ids = []\n",
    "    request = youtube.playlistItems ().list(\n",
    "        part=\"snippet, contentDetails\",\n",
    "        playlistId=playlist_id,\n",
    "        maxResults = 50\n",
    "    )\n",
    "    response = request. execute ()\n",
    "    for item in response['items']:\n",
    "        video_ids. append (item['contentDetails']['videoId'])\n",
    "\n",
    "    #We need to collect all of the video data on playlist but the limit is 50 so we do a loop\n",
    "    next_page_token = response.get('nextPageToken')\n",
    "    while next_page_token is not None:\n",
    "        request = youtube.playlistItems().list(\n",
    "            part='contentDetails',\n",
    "            playlistId = playlist_id,\n",
    "            maxResults = 50,\n",
    "            pageToken = next_page_token)\n",
    "        response = request.execute()\n",
    "\n",
    "        for item in response['items']:\n",
    "            video_ids.append(item['contentDetails']['videoId'])\n",
    "        next_page_token = response.get('nextPageToken')\n",
    "\n",
    "\n",
    "\n",
    "    return video_ids\n"
   ]
  },
  {
   "cell_type": "code",
   "execution_count": 10,
   "metadata": {},
   "outputs": [],
   "source": [
    "video_ids = get_video_ids(youtube,playlist_id)"
   ]
  },
  {
   "cell_type": "code",
   "execution_count": 11,
   "metadata": {},
   "outputs": [
    {
     "data": {
      "text/plain": [
       "298"
      ]
     },
     "execution_count": 11,
     "metadata": {},
     "output_type": "execute_result"
    }
   ],
   "source": [
    "len(video_ids)"
   ]
  },
  {
   "cell_type": "code",
   "execution_count": 12,
   "metadata": {},
   "outputs": [],
   "source": [
    "def get_videos_details(youtube, video_ids):\n",
    "    all_video_info = []\n",
    "\n",
    "    for i in range(0, len(video_ids), 50):\n",
    "        request = youtube.videos().list(\n",
    "            part=\"snippet,contentDetails,statistics\",\n",
    "            id= ','.join(video_ids[i:i+50])\n",
    "        )\n",
    "        response = request.execute()\n",
    "\n",
    "        for video in response['items']:\n",
    "            stats_to_keep = {'snippet': ['channelTitle', 'title', 'description', 'tags', 'publishedAt'],\n",
    "                            'statistics': ['viewCount', 'likeCount', 'favouriteCount', 'commentCount'],\n",
    "                            'contentDetails': ['duration', 'definition', 'caption'] }\n",
    "            video_info ={}\n",
    "            video_info['video_id'] = video['id']\n",
    "            for k in stats_to_keep.keys():\n",
    "                for v in stats_to_keep[k]:\n",
    "                    try:\n",
    "                        video_info[v] = video [k] [v]\n",
    "                    except:\n",
    "                        video_info[v] = None\n",
    "                all_video_info.append(video_info)\n",
    "    return pd.DataFrame(all_video_info)"
   ]
  },
  {
   "cell_type": "code",
   "execution_count": 13,
   "metadata": {},
   "outputs": [
    {
     "data": {
      "text/html": [
       "<div>\n",
       "<style scoped>\n",
       "    .dataframe tbody tr th:only-of-type {\n",
       "        vertical-align: middle;\n",
       "    }\n",
       "\n",
       "    .dataframe tbody tr th {\n",
       "        vertical-align: top;\n",
       "    }\n",
       "\n",
       "    .dataframe thead th {\n",
       "        text-align: right;\n",
       "    }\n",
       "</style>\n",
       "<table border=\"1\" class=\"dataframe\">\n",
       "  <thead>\n",
       "    <tr style=\"text-align: right;\">\n",
       "      <th></th>\n",
       "      <th>video_id</th>\n",
       "      <th>channelTitle</th>\n",
       "      <th>title</th>\n",
       "      <th>description</th>\n",
       "      <th>tags</th>\n",
       "      <th>publishedAt</th>\n",
       "      <th>viewCount</th>\n",
       "      <th>likeCount</th>\n",
       "      <th>favouriteCount</th>\n",
       "      <th>commentCount</th>\n",
       "      <th>duration</th>\n",
       "      <th>definition</th>\n",
       "      <th>caption</th>\n",
       "    </tr>\n",
       "  </thead>\n",
       "  <tbody>\n",
       "    <tr>\n",
       "      <th>0</th>\n",
       "      <td>8dwMpR19K4A</td>\n",
       "      <td>MundoCreepy</td>\n",
       "      <td>4 Historias paranormales en videollamadas III ...</td>\n",
       "      <td>Las videollamadas se han convertido rápidament...</td>\n",
       "      <td>[creepy, pasta, mundocreepy, mundo, terror, ps...</td>\n",
       "      <td>2022-10-03T17:00:04Z</td>\n",
       "      <td>200257</td>\n",
       "      <td>12233</td>\n",
       "      <td>None</td>\n",
       "      <td>203</td>\n",
       "      <td>PT17M19S</td>\n",
       "      <td>hd</td>\n",
       "      <td>false</td>\n",
       "    </tr>\n",
       "    <tr>\n",
       "      <th>1</th>\n",
       "      <td>8dwMpR19K4A</td>\n",
       "      <td>MundoCreepy</td>\n",
       "      <td>4 Historias paranormales en videollamadas III ...</td>\n",
       "      <td>Las videollamadas se han convertido rápidament...</td>\n",
       "      <td>[creepy, pasta, mundocreepy, mundo, terror, ps...</td>\n",
       "      <td>2022-10-03T17:00:04Z</td>\n",
       "      <td>200257</td>\n",
       "      <td>12233</td>\n",
       "      <td>None</td>\n",
       "      <td>203</td>\n",
       "      <td>PT17M19S</td>\n",
       "      <td>hd</td>\n",
       "      <td>false</td>\n",
       "    </tr>\n",
       "    <tr>\n",
       "      <th>2</th>\n",
       "      <td>8dwMpR19K4A</td>\n",
       "      <td>MundoCreepy</td>\n",
       "      <td>4 Historias paranormales en videollamadas III ...</td>\n",
       "      <td>Las videollamadas se han convertido rápidament...</td>\n",
       "      <td>[creepy, pasta, mundocreepy, mundo, terror, ps...</td>\n",
       "      <td>2022-10-03T17:00:04Z</td>\n",
       "      <td>200257</td>\n",
       "      <td>12233</td>\n",
       "      <td>None</td>\n",
       "      <td>203</td>\n",
       "      <td>PT17M19S</td>\n",
       "      <td>hd</td>\n",
       "      <td>false</td>\n",
       "    </tr>\n",
       "    <tr>\n",
       "      <th>3</th>\n",
       "      <td>fxgZHIjxEW4</td>\n",
       "      <td>MundoCreepy</td>\n",
       "      <td>4 Experiencias aterradoras vividas por camione...</td>\n",
       "      <td>Este es uno de los temas que mas nos piden y a...</td>\n",
       "      <td>[creepy, pasta, mundocreepy, mundo, terror, ps...</td>\n",
       "      <td>2022-09-23T17:00:21Z</td>\n",
       "      <td>216215</td>\n",
       "      <td>12539</td>\n",
       "      <td>None</td>\n",
       "      <td>239</td>\n",
       "      <td>PT20M36S</td>\n",
       "      <td>hd</td>\n",
       "      <td>false</td>\n",
       "    </tr>\n",
       "    <tr>\n",
       "      <th>4</th>\n",
       "      <td>fxgZHIjxEW4</td>\n",
       "      <td>MundoCreepy</td>\n",
       "      <td>4 Experiencias aterradoras vividas por camione...</td>\n",
       "      <td>Este es uno de los temas que mas nos piden y a...</td>\n",
       "      <td>[creepy, pasta, mundocreepy, mundo, terror, ps...</td>\n",
       "      <td>2022-09-23T17:00:21Z</td>\n",
       "      <td>216215</td>\n",
       "      <td>12539</td>\n",
       "      <td>None</td>\n",
       "      <td>239</td>\n",
       "      <td>PT20M36S</td>\n",
       "      <td>hd</td>\n",
       "      <td>false</td>\n",
       "    </tr>\n",
       "    <tr>\n",
       "      <th>...</th>\n",
       "      <td>...</td>\n",
       "      <td>...</td>\n",
       "      <td>...</td>\n",
       "      <td>...</td>\n",
       "      <td>...</td>\n",
       "      <td>...</td>\n",
       "      <td>...</td>\n",
       "      <td>...</td>\n",
       "      <td>...</td>\n",
       "      <td>...</td>\n",
       "      <td>...</td>\n",
       "      <td>...</td>\n",
       "      <td>...</td>\n",
       "    </tr>\n",
       "    <tr>\n",
       "      <th>880</th>\n",
       "      <td>RkucmCk5tIA</td>\n",
       "      <td>MundoCreepy</td>\n",
       "      <td>Encuentros paranormales | anécdotas aterradoras</td>\n",
       "      <td>► Suscribete hoy para enterarte cada vez que s...</td>\n",
       "      <td>[creepy, pasta, mundocreepy, mundo, terror, ps...</td>\n",
       "      <td>2014-07-28T00:41:19Z</td>\n",
       "      <td>165171</td>\n",
       "      <td>4502</td>\n",
       "      <td>None</td>\n",
       "      <td>210</td>\n",
       "      <td>PT11M55S</td>\n",
       "      <td>hd</td>\n",
       "      <td>false</td>\n",
       "    </tr>\n",
       "    <tr>\n",
       "      <th>881</th>\n",
       "      <td>RkucmCk5tIA</td>\n",
       "      <td>MundoCreepy</td>\n",
       "      <td>Encuentros paranormales | anécdotas aterradoras</td>\n",
       "      <td>► Suscribete hoy para enterarte cada vez que s...</td>\n",
       "      <td>[creepy, pasta, mundocreepy, mundo, terror, ps...</td>\n",
       "      <td>2014-07-28T00:41:19Z</td>\n",
       "      <td>165171</td>\n",
       "      <td>4502</td>\n",
       "      <td>None</td>\n",
       "      <td>210</td>\n",
       "      <td>PT11M55S</td>\n",
       "      <td>hd</td>\n",
       "      <td>false</td>\n",
       "    </tr>\n",
       "    <tr>\n",
       "      <th>882</th>\n",
       "      <td>Treq9UX1hRE</td>\n",
       "      <td>MundoCreepy</td>\n",
       "      <td>4 Historias para contar en HALLOWEEN IV | Mund...</td>\n",
       "      <td>Existen historias que pasan de generación en g...</td>\n",
       "      <td>[creepy, pasta, mundocreepy, mundo, terror, ps...</td>\n",
       "      <td>2022-10-21T17:00:30Z</td>\n",
       "      <td>128709</td>\n",
       "      <td>8700</td>\n",
       "      <td>None</td>\n",
       "      <td>148</td>\n",
       "      <td>PT20M41S</td>\n",
       "      <td>hd</td>\n",
       "      <td>false</td>\n",
       "    </tr>\n",
       "    <tr>\n",
       "      <th>883</th>\n",
       "      <td>Treq9UX1hRE</td>\n",
       "      <td>MundoCreepy</td>\n",
       "      <td>4 Historias para contar en HALLOWEEN IV | Mund...</td>\n",
       "      <td>Existen historias que pasan de generación en g...</td>\n",
       "      <td>[creepy, pasta, mundocreepy, mundo, terror, ps...</td>\n",
       "      <td>2022-10-21T17:00:30Z</td>\n",
       "      <td>128709</td>\n",
       "      <td>8700</td>\n",
       "      <td>None</td>\n",
       "      <td>148</td>\n",
       "      <td>PT20M41S</td>\n",
       "      <td>hd</td>\n",
       "      <td>false</td>\n",
       "    </tr>\n",
       "    <tr>\n",
       "      <th>884</th>\n",
       "      <td>Treq9UX1hRE</td>\n",
       "      <td>MundoCreepy</td>\n",
       "      <td>4 Historias para contar en HALLOWEEN IV | Mund...</td>\n",
       "      <td>Existen historias que pasan de generación en g...</td>\n",
       "      <td>[creepy, pasta, mundocreepy, mundo, terror, ps...</td>\n",
       "      <td>2022-10-21T17:00:30Z</td>\n",
       "      <td>128709</td>\n",
       "      <td>8700</td>\n",
       "      <td>None</td>\n",
       "      <td>148</td>\n",
       "      <td>PT20M41S</td>\n",
       "      <td>hd</td>\n",
       "      <td>false</td>\n",
       "    </tr>\n",
       "  </tbody>\n",
       "</table>\n",
       "<p>885 rows × 13 columns</p>\n",
       "</div>"
      ],
      "text/plain": [
       "        video_id channelTitle  \\\n",
       "0    8dwMpR19K4A  MundoCreepy   \n",
       "1    8dwMpR19K4A  MundoCreepy   \n",
       "2    8dwMpR19K4A  MundoCreepy   \n",
       "3    fxgZHIjxEW4  MundoCreepy   \n",
       "4    fxgZHIjxEW4  MundoCreepy   \n",
       "..           ...          ...   \n",
       "880  RkucmCk5tIA  MundoCreepy   \n",
       "881  RkucmCk5tIA  MundoCreepy   \n",
       "882  Treq9UX1hRE  MundoCreepy   \n",
       "883  Treq9UX1hRE  MundoCreepy   \n",
       "884  Treq9UX1hRE  MundoCreepy   \n",
       "\n",
       "                                                 title  \\\n",
       "0    4 Historias paranormales en videollamadas III ...   \n",
       "1    4 Historias paranormales en videollamadas III ...   \n",
       "2    4 Historias paranormales en videollamadas III ...   \n",
       "3    4 Experiencias aterradoras vividas por camione...   \n",
       "4    4 Experiencias aterradoras vividas por camione...   \n",
       "..                                                 ...   \n",
       "880    Encuentros paranormales | anécdotas aterradoras   \n",
       "881    Encuentros paranormales | anécdotas aterradoras   \n",
       "882  4 Historias para contar en HALLOWEEN IV | Mund...   \n",
       "883  4 Historias para contar en HALLOWEEN IV | Mund...   \n",
       "884  4 Historias para contar en HALLOWEEN IV | Mund...   \n",
       "\n",
       "                                           description  \\\n",
       "0    Las videollamadas se han convertido rápidament...   \n",
       "1    Las videollamadas se han convertido rápidament...   \n",
       "2    Las videollamadas se han convertido rápidament...   \n",
       "3    Este es uno de los temas que mas nos piden y a...   \n",
       "4    Este es uno de los temas que mas nos piden y a...   \n",
       "..                                                 ...   \n",
       "880  ► Suscribete hoy para enterarte cada vez que s...   \n",
       "881  ► Suscribete hoy para enterarte cada vez que s...   \n",
       "882  Existen historias que pasan de generación en g...   \n",
       "883  Existen historias que pasan de generación en g...   \n",
       "884  Existen historias que pasan de generación en g...   \n",
       "\n",
       "                                                  tags           publishedAt  \\\n",
       "0    [creepy, pasta, mundocreepy, mundo, terror, ps...  2022-10-03T17:00:04Z   \n",
       "1    [creepy, pasta, mundocreepy, mundo, terror, ps...  2022-10-03T17:00:04Z   \n",
       "2    [creepy, pasta, mundocreepy, mundo, terror, ps...  2022-10-03T17:00:04Z   \n",
       "3    [creepy, pasta, mundocreepy, mundo, terror, ps...  2022-09-23T17:00:21Z   \n",
       "4    [creepy, pasta, mundocreepy, mundo, terror, ps...  2022-09-23T17:00:21Z   \n",
       "..                                                 ...                   ...   \n",
       "880  [creepy, pasta, mundocreepy, mundo, terror, ps...  2014-07-28T00:41:19Z   \n",
       "881  [creepy, pasta, mundocreepy, mundo, terror, ps...  2014-07-28T00:41:19Z   \n",
       "882  [creepy, pasta, mundocreepy, mundo, terror, ps...  2022-10-21T17:00:30Z   \n",
       "883  [creepy, pasta, mundocreepy, mundo, terror, ps...  2022-10-21T17:00:30Z   \n",
       "884  [creepy, pasta, mundocreepy, mundo, terror, ps...  2022-10-21T17:00:30Z   \n",
       "\n",
       "    viewCount likeCount favouriteCount commentCount  duration definition  \\\n",
       "0      200257     12233           None          203  PT17M19S         hd   \n",
       "1      200257     12233           None          203  PT17M19S         hd   \n",
       "2      200257     12233           None          203  PT17M19S         hd   \n",
       "3      216215     12539           None          239  PT20M36S         hd   \n",
       "4      216215     12539           None          239  PT20M36S         hd   \n",
       "..        ...       ...            ...          ...       ...        ...   \n",
       "880    165171      4502           None          210  PT11M55S         hd   \n",
       "881    165171      4502           None          210  PT11M55S         hd   \n",
       "882    128709      8700           None          148  PT20M41S         hd   \n",
       "883    128709      8700           None          148  PT20M41S         hd   \n",
       "884    128709      8700           None          148  PT20M41S         hd   \n",
       "\n",
       "    caption  \n",
       "0     false  \n",
       "1     false  \n",
       "2     false  \n",
       "3     false  \n",
       "4     false  \n",
       "..      ...  \n",
       "880   false  \n",
       "881   false  \n",
       "882   false  \n",
       "883   false  \n",
       "884   false  \n",
       "\n",
       "[885 rows x 13 columns]"
      ]
     },
     "execution_count": 13,
     "metadata": {},
     "output_type": "execute_result"
    }
   ],
   "source": [
    "video_df = get_videos_details(youtube, video_ids)\n",
    "video_df"
   ]
  },
  {
   "cell_type": "code",
   "execution_count": 14,
   "metadata": {},
   "outputs": [],
   "source": [
    "def get_comments_in_videos(youtube, video_ids):\n",
    "    all_comments = []\n",
    "    \n",
    "    for video_id in video_ids:\n",
    "        try:   \n",
    "            request = youtube.commentThreads().list(\n",
    "                part=\"snippet,replies\",\n",
    "                videoId=video_id\n",
    "            )\n",
    "            response = request.execute()\n",
    "        \n",
    "            comments_in_video = [comment['snippet']['topLevelComment']['snippet']['textOriginal'] for comment in response['items'][0:10]]\n",
    "            comments_in_video_info = {'video_id': video_id, 'comments': comments_in_video}\n",
    "\n",
    "            all_comments.append(comments_in_video_info)\n",
    "            \n",
    "        except: \n",
    "            # When error occurs - most likely because comments are disabled on a video\n",
    "            print('Could not get comments for video ' + video_id)\n",
    "        \n",
    "    return pd.DataFrame(all_comments)     "
   ]
  },
  {
   "cell_type": "code",
   "execution_count": 15,
   "metadata": {},
   "outputs": [
    {
     "name": "stdout",
     "output_type": "stream",
     "text": [
      "Could not get comments for video TvzQTn2zuMM\n",
      "Could not get comments for video eh2FXVb5crU\n",
      "Could not get comments for video Au6F4XHMzl8\n"
     ]
    },
    {
     "data": {
      "text/plain": [
       "['Las videollamadas desde países lejanos al tuyo con el propósito de estafar son comunes en mi país. En un tono más cómico, hace poco vinieron unos técnicos a mi casa para arreglar la lavadora. Recibí una primera videollamada por WhatsApp, mientras le daba la bienvenida a los técnicos, la tomé rápidamente y la pantalla se quedó en negro. Cuando le explicaba a los señores el problema de la lavadora, volvieron a llamar. Entre conversación y conversación, la contesté y, cuando volví a ver mi móvil, me estaba mirando fijamente un hombre que yo no conozco desde la pantalla. Sorprendida, colgué inmediatamente la llamada y bloquée el número. Siempre bloqueen el número.',\n",
       " 'Hace rato que estaba escuchando este video mi mamá empezó a hablar sola y me asuste porque me dio cosa que hablara sola y resulta que le estaba hablando a mi gato jaja',\n",
       " 'Nmms la última si estuvo muy muuuy perturbadora. Dan más miedo los vivos alv cómo puede existir gente así 😤',\n",
       " 'Yo viendo que los de mundo creppy no dan corazón :(',\n",
       " 'Yo no recibía videollamada pero sí llamadas telefónicas de otras provincias de mi país, al principio atendía y decía \"hola?\" Pero nadie respondía y colgaban,después me cansé y no atendía o cuando lo hacía ponía el celu en el parlante del equipo de música o decía cosas cómo \" ya sé quienes son\" ó \"decile a Juan que si no entrega la guita (plata) le corto más que un dedo\" .\\nAl poco tiempo dejaron de llamar🤣🤣🤣🤣 no voy a ser la única que se quede con miedo....😎😎',\n",
       " 'Muy buen video y excelentes historias, todas estuvieron entretenidas y aterradoras sigan asi',\n",
       " 'Cómo se llama el temita ese de \"lalala\" ese del inicio? Me encanto, si alguien la conoce porfavor que pase el nombre',\n",
       " 'Saludos a los 2',\n",
       " 'Porque no hacen creepypastas de videojuego malditos',\n",
       " 'Mi tema favorito es historias de muñecos malditos o poseidos']"
      ]
     },
     "execution_count": 15,
     "metadata": {},
     "output_type": "execute_result"
    }
   ],
   "source": [
    "video_comments_df = get_comments_in_videos(youtube, video_ids)\n",
    "video_comments_df[\"comments\"][0]"
   ]
  },
  {
   "cell_type": "markdown",
   "metadata": {},
   "source": [
    "## Data Pre-procesing"
   ]
  },
  {
   "cell_type": "code",
   "execution_count": 16,
   "metadata": {},
   "outputs": [
    {
     "data": {
      "text/plain": [
       "video_id          False\n",
       "channelTitle      False\n",
       "title             False\n",
       "description       False\n",
       "tags               True\n",
       "publishedAt       False\n",
       "viewCount         False\n",
       "likeCount         False\n",
       "favouriteCount     True\n",
       "commentCount      False\n",
       "duration          False\n",
       "definition        False\n",
       "caption           False\n",
       "dtype: bool"
      ]
     },
     "execution_count": 16,
     "metadata": {},
     "output_type": "execute_result"
    }
   ],
   "source": [
    "video_df.isnull().any()"
   ]
  },
  {
   "cell_type": "code",
   "execution_count": 20,
   "metadata": {},
   "outputs": [
    {
     "data": {
      "text/plain": [
       "video_id           object\n",
       "channelTitle       object\n",
       "title              object\n",
       "description        object\n",
       "tags               object\n",
       "publishedAt        object\n",
       "viewCount         float64\n",
       "likeCount         float64\n",
       "favouriteCount    float64\n",
       "commentCount      float64\n",
       "duration           object\n",
       "definition         object\n",
       "caption            object\n",
       "dtype: object"
      ]
     },
     "execution_count": 20,
     "metadata": {},
     "output_type": "execute_result"
    }
   ],
   "source": [
    "video_df.dtypes"
   ]
  },
  {
   "cell_type": "code",
   "execution_count": 19,
   "metadata": {},
   "outputs": [],
   "source": [
    "numeric_cols = ['viewCount', 'likeCount', 'favouriteCount', 'commentCount']\n",
    "video_df [numeric_cols] = video_df [numeric_cols]. apply (pd. to_numeric, errors = 'coerce' ,axis = 1)\n"
   ]
  },
  {
   "cell_type": "code",
   "execution_count": 23,
   "metadata": {},
   "outputs": [
    {
     "ename": "NameError",
     "evalue": "name 'parser' is not defined",
     "output_type": "error",
     "traceback": [
      "\u001b[1;31m---------------------------------------------------------------------------\u001b[0m",
      "\u001b[1;31mNameError\u001b[0m                                 Traceback (most recent call last)",
      "\u001b[1;32m~\\AppData\\Local\\Temp\\ipykernel_1980\\3122225996.py\u001b[0m in \u001b[0;36m<module>\u001b[1;34m\u001b[0m\n\u001b[0;32m      1\u001b[0m \u001b[1;31m#publish day in the week\u001b[0m\u001b[1;33m\u001b[0m\u001b[1;33m\u001b[0m\u001b[0m\n\u001b[1;32m----> 2\u001b[1;33m \u001b[0mvideo_df\u001b[0m\u001b[1;33m[\u001b[0m\u001b[1;34m'publishedAt'\u001b[0m\u001b[1;33m]\u001b[0m \u001b[1;33m=\u001b[0m \u001b[0mvideo_df\u001b[0m\u001b[1;33m[\u001b[0m\u001b[1;34m'publishedAt'\u001b[0m\u001b[1;33m]\u001b[0m\u001b[1;33m.\u001b[0m\u001b[0mapply\u001b[0m\u001b[1;33m(\u001b[0m\u001b[1;32mlambda\u001b[0m \u001b[0mx\u001b[0m\u001b[1;33m:\u001b[0m \u001b[0mparser\u001b[0m\u001b[1;33m.\u001b[0m\u001b[0mparse\u001b[0m\u001b[1;33m(\u001b[0m\u001b[0mx\u001b[0m\u001b[1;33m)\u001b[0m\u001b[1;33m)\u001b[0m\u001b[1;33m\u001b[0m\u001b[1;33m\u001b[0m\u001b[0m\n\u001b[0m\u001b[0;32m      3\u001b[0m \u001b[0mvideo_df\u001b[0m\u001b[1;33m[\u001b[0m\u001b[1;34m'publishDayName'\u001b[0m\u001b[1;33m]\u001b[0m \u001b[1;33m=\u001b[0m \u001b[0mvideo_df\u001b[0m\u001b[1;33m[\u001b[0m\u001b[1;34m'publsihedAt'\u001b[0m\u001b[1;33m]\u001b[0m\u001b[1;33m.\u001b[0m\u001b[0mapply\u001b[0m\u001b[1;33m(\u001b[0m\u001b[1;32mlambda\u001b[0m \u001b[0mx\u001b[0m\u001b[1;33m:\u001b[0m \u001b[0mx\u001b[0m\u001b[1;33m.\u001b[0m\u001b[0mstrftime\u001b[0m\u001b[1;33m(\u001b[0m\u001b[1;34m\"%A\"\u001b[0m\u001b[1;33m)\u001b[0m\u001b[1;33m)\u001b[0m\u001b[1;33m\u001b[0m\u001b[1;33m\u001b[0m\u001b[0m\n",
      "\u001b[1;32m~\\anaconda3\\lib\\site-packages\\pandas\\core\\series.py\u001b[0m in \u001b[0;36mapply\u001b[1;34m(self, func, convert_dtype, args, **kwargs)\u001b[0m\n\u001b[0;32m   4431\u001b[0m         \u001b[0mdtype\u001b[0m\u001b[1;33m:\u001b[0m \u001b[0mfloat64\u001b[0m\u001b[1;33m\u001b[0m\u001b[1;33m\u001b[0m\u001b[0m\n\u001b[0;32m   4432\u001b[0m         \"\"\"\n\u001b[1;32m-> 4433\u001b[1;33m         \u001b[1;32mreturn\u001b[0m \u001b[0mSeriesApply\u001b[0m\u001b[1;33m(\u001b[0m\u001b[0mself\u001b[0m\u001b[1;33m,\u001b[0m \u001b[0mfunc\u001b[0m\u001b[1;33m,\u001b[0m \u001b[0mconvert_dtype\u001b[0m\u001b[1;33m,\u001b[0m \u001b[0margs\u001b[0m\u001b[1;33m,\u001b[0m \u001b[0mkwargs\u001b[0m\u001b[1;33m)\u001b[0m\u001b[1;33m.\u001b[0m\u001b[0mapply\u001b[0m\u001b[1;33m(\u001b[0m\u001b[1;33m)\u001b[0m\u001b[1;33m\u001b[0m\u001b[1;33m\u001b[0m\u001b[0m\n\u001b[0m\u001b[0;32m   4434\u001b[0m \u001b[1;33m\u001b[0m\u001b[0m\n\u001b[0;32m   4435\u001b[0m     def _reduce(\n",
      "\u001b[1;32m~\\anaconda3\\lib\\site-packages\\pandas\\core\\apply.py\u001b[0m in \u001b[0;36mapply\u001b[1;34m(self)\u001b[0m\n\u001b[0;32m   1086\u001b[0m             \u001b[1;32mreturn\u001b[0m \u001b[0mself\u001b[0m\u001b[1;33m.\u001b[0m\u001b[0mapply_str\u001b[0m\u001b[1;33m(\u001b[0m\u001b[1;33m)\u001b[0m\u001b[1;33m\u001b[0m\u001b[1;33m\u001b[0m\u001b[0m\n\u001b[0;32m   1087\u001b[0m \u001b[1;33m\u001b[0m\u001b[0m\n\u001b[1;32m-> 1088\u001b[1;33m         \u001b[1;32mreturn\u001b[0m \u001b[0mself\u001b[0m\u001b[1;33m.\u001b[0m\u001b[0mapply_standard\u001b[0m\u001b[1;33m(\u001b[0m\u001b[1;33m)\u001b[0m\u001b[1;33m\u001b[0m\u001b[1;33m\u001b[0m\u001b[0m\n\u001b[0m\u001b[0;32m   1089\u001b[0m \u001b[1;33m\u001b[0m\u001b[0m\n\u001b[0;32m   1090\u001b[0m     \u001b[1;32mdef\u001b[0m \u001b[0magg\u001b[0m\u001b[1;33m(\u001b[0m\u001b[0mself\u001b[0m\u001b[1;33m)\u001b[0m\u001b[1;33m:\u001b[0m\u001b[1;33m\u001b[0m\u001b[1;33m\u001b[0m\u001b[0m\n",
      "\u001b[1;32m~\\anaconda3\\lib\\site-packages\\pandas\\core\\apply.py\u001b[0m in \u001b[0;36mapply_standard\u001b[1;34m(self)\u001b[0m\n\u001b[0;32m   1141\u001b[0m                 \u001b[1;31m# List[Union[Callable[..., Any], str]]]]]\"; expected\u001b[0m\u001b[1;33m\u001b[0m\u001b[1;33m\u001b[0m\u001b[0m\n\u001b[0;32m   1142\u001b[0m                 \u001b[1;31m# \"Callable[[Any], Any]\"\u001b[0m\u001b[1;33m\u001b[0m\u001b[1;33m\u001b[0m\u001b[0m\n\u001b[1;32m-> 1143\u001b[1;33m                 mapped = lib.map_infer(\n\u001b[0m\u001b[0;32m   1144\u001b[0m                     \u001b[0mvalues\u001b[0m\u001b[1;33m,\u001b[0m\u001b[1;33m\u001b[0m\u001b[1;33m\u001b[0m\u001b[0m\n\u001b[0;32m   1145\u001b[0m                     \u001b[0mf\u001b[0m\u001b[1;33m,\u001b[0m  \u001b[1;31m# type: ignore[arg-type]\u001b[0m\u001b[1;33m\u001b[0m\u001b[1;33m\u001b[0m\u001b[0m\n",
      "\u001b[1;32m~\\anaconda3\\lib\\site-packages\\pandas\\_libs\\lib.pyx\u001b[0m in \u001b[0;36mpandas._libs.lib.map_infer\u001b[1;34m()\u001b[0m\n",
      "\u001b[1;32m~\\AppData\\Local\\Temp\\ipykernel_1980\\3122225996.py\u001b[0m in \u001b[0;36m<lambda>\u001b[1;34m(x)\u001b[0m\n\u001b[0;32m      1\u001b[0m \u001b[1;31m#publish day in the week\u001b[0m\u001b[1;33m\u001b[0m\u001b[1;33m\u001b[0m\u001b[0m\n\u001b[1;32m----> 2\u001b[1;33m \u001b[0mvideo_df\u001b[0m\u001b[1;33m[\u001b[0m\u001b[1;34m'publishedAt'\u001b[0m\u001b[1;33m]\u001b[0m \u001b[1;33m=\u001b[0m \u001b[0mvideo_df\u001b[0m\u001b[1;33m[\u001b[0m\u001b[1;34m'publishedAt'\u001b[0m\u001b[1;33m]\u001b[0m\u001b[1;33m.\u001b[0m\u001b[0mapply\u001b[0m\u001b[1;33m(\u001b[0m\u001b[1;32mlambda\u001b[0m \u001b[0mx\u001b[0m\u001b[1;33m:\u001b[0m \u001b[0mparser\u001b[0m\u001b[1;33m.\u001b[0m\u001b[0mparse\u001b[0m\u001b[1;33m(\u001b[0m\u001b[0mx\u001b[0m\u001b[1;33m)\u001b[0m\u001b[1;33m)\u001b[0m\u001b[1;33m\u001b[0m\u001b[1;33m\u001b[0m\u001b[0m\n\u001b[0m\u001b[0;32m      3\u001b[0m \u001b[0mvideo_df\u001b[0m\u001b[1;33m[\u001b[0m\u001b[1;34m'publishDayName'\u001b[0m\u001b[1;33m]\u001b[0m \u001b[1;33m=\u001b[0m \u001b[0mvideo_df\u001b[0m\u001b[1;33m[\u001b[0m\u001b[1;34m'publsihedAt'\u001b[0m\u001b[1;33m]\u001b[0m\u001b[1;33m.\u001b[0m\u001b[0mapply\u001b[0m\u001b[1;33m(\u001b[0m\u001b[1;32mlambda\u001b[0m \u001b[0mx\u001b[0m\u001b[1;33m:\u001b[0m \u001b[0mx\u001b[0m\u001b[1;33m.\u001b[0m\u001b[0mstrftime\u001b[0m\u001b[1;33m(\u001b[0m\u001b[1;34m\"%A\"\u001b[0m\u001b[1;33m)\u001b[0m\u001b[1;33m)\u001b[0m\u001b[1;33m\u001b[0m\u001b[1;33m\u001b[0m\u001b[0m\n",
      "\u001b[1;31mNameError\u001b[0m: name 'parser' is not defined"
     ]
    }
   ],
   "source": [
    "#publish day in the week\n",
    "video_df['publishedAt'] = video_df['publishedAt'].apply(lambda x: parser.parse(x))\n",
    "video_df['publishDayName'] = video_df['publsihedAt'].apply(lambda x: x.strftime(\"%A\"))\n"
   ]
  },
  {
   "cell_type": "code",
   "execution_count": null,
   "metadata": {},
   "outputs": [],
   "source": []
  },
  {
   "cell_type": "code",
   "execution_count": null,
   "metadata": {},
   "outputs": [],
   "source": []
  },
  {
   "cell_type": "code",
   "execution_count": null,
   "metadata": {},
   "outputs": [],
   "source": []
  },
  {
   "cell_type": "code",
   "execution_count": null,
   "metadata": {},
   "outputs": [],
   "source": []
  },
  {
   "cell_type": "code",
   "execution_count": null,
   "metadata": {},
   "outputs": [],
   "source": []
  },
  {
   "cell_type": "code",
   "execution_count": null,
   "metadata": {},
   "outputs": [],
   "source": []
  },
  {
   "cell_type": "code",
   "execution_count": null,
   "metadata": {},
   "outputs": [],
   "source": []
  },
  {
   "cell_type": "code",
   "execution_count": null,
   "metadata": {},
   "outputs": [],
   "source": []
  },
  {
   "cell_type": "code",
   "execution_count": null,
   "metadata": {},
   "outputs": [],
   "source": []
  },
  {
   "cell_type": "code",
   "execution_count": null,
   "metadata": {},
   "outputs": [],
   "source": []
  },
  {
   "cell_type": "code",
   "execution_count": null,
   "metadata": {},
   "outputs": [],
   "source": []
  },
  {
   "cell_type": "code",
   "execution_count": null,
   "metadata": {},
   "outputs": [],
   "source": []
  },
  {
   "cell_type": "code",
   "execution_count": null,
   "metadata": {},
   "outputs": [],
   "source": []
  },
  {
   "cell_type": "code",
   "execution_count": null,
   "metadata": {},
   "outputs": [],
   "source": []
  },
  {
   "cell_type": "code",
   "execution_count": null,
   "metadata": {},
   "outputs": [],
   "source": []
  },
  {
   "cell_type": "code",
   "execution_count": null,
   "metadata": {},
   "outputs": [],
   "source": []
  },
  {
   "cell_type": "code",
   "execution_count": null,
   "metadata": {},
   "outputs": [],
   "source": []
  },
  {
   "cell_type": "code",
   "execution_count": null,
   "metadata": {},
   "outputs": [],
   "source": []
  },
  {
   "cell_type": "code",
   "execution_count": null,
   "metadata": {},
   "outputs": [],
   "source": []
  },
  {
   "cell_type": "code",
   "execution_count": null,
   "metadata": {},
   "outputs": [],
   "source": []
  },
  {
   "cell_type": "code",
   "execution_count": null,
   "metadata": {},
   "outputs": [],
   "source": []
  },
  {
   "cell_type": "code",
   "execution_count": null,
   "metadata": {},
   "outputs": [],
   "source": []
  },
  {
   "cell_type": "code",
   "execution_count": null,
   "metadata": {},
   "outputs": [],
   "source": []
  },
  {
   "cell_type": "code",
   "execution_count": null,
   "metadata": {},
   "outputs": [],
   "source": []
  },
  {
   "cell_type": "code",
   "execution_count": null,
   "metadata": {},
   "outputs": [],
   "source": []
  },
  {
   "cell_type": "code",
   "execution_count": null,
   "metadata": {},
   "outputs": [],
   "source": []
  },
  {
   "cell_type": "code",
   "execution_count": null,
   "metadata": {},
   "outputs": [],
   "source": []
  },
  {
   "cell_type": "code",
   "execution_count": null,
   "metadata": {},
   "outputs": [],
   "source": []
  },
  {
   "cell_type": "code",
   "execution_count": null,
   "metadata": {},
   "outputs": [],
   "source": []
  },
  {
   "cell_type": "code",
   "execution_count": null,
   "metadata": {},
   "outputs": [],
   "source": []
  },
  {
   "cell_type": "code",
   "execution_count": null,
   "metadata": {},
   "outputs": [],
   "source": []
  }
 ],
 "metadata": {
  "kernelspec": {
   "display_name": "Python 3 (ipykernel)",
   "language": "python",
   "name": "python3"
  },
  "language_info": {
   "codemirror_mode": {
    "name": "ipython",
    "version": 3
   },
   "file_extension": ".py",
   "mimetype": "text/x-python",
   "name": "python",
   "nbconvert_exporter": "python",
   "pygments_lexer": "ipython3",
   "version": "3.9.13"
  },
  "vscode": {
   "interpreter": {
    "hash": "c09b38c1a5bcb809413498f252786f9b6b511ba7c4df473a4a8dd8bad3bee318"
   }
  }
 },
 "nbformat": 4,
 "nbformat_minor": 2
}
